{
 "cells": [
  {
   "cell_type": "code",
   "execution_count": 2,
   "metadata": {},
   "outputs": [
    {
     "name": "stdout",
     "output_type": "stream",
     "text": [
      "[1]\n",
      "[1, 2]\n",
      "[1, 2, 3]\n",
      "[1, 2, 3, 5]\n",
      "[1, 2, 3, 5, 8]\n",
      "[1, 2, 3, 5, 8, 13]\n"
     ]
    }
   ],
   "source": [
    "Задача 2. Сформировать список элементов, которые одновременно содержатся и в А, и в В.\n",
    "\n",
    "\n",
    "A = [1, 1, 2, 3, 5, 8, 13, 21, 34, 55, 89]\n",
    "B = [1, 2, 3, 4, 5, 6, 7, 8, 9, 10, 11, 12, 13]\n",
    "\n",
    "C = []\n",
    "\n",
    "for a in A:\n",
    "    if (a in B) and (a not in C):\n",
    "        C.append(a)\n",
    "        print(C)"
   ]
  },
  {
   "cell_type": "code",
   "execution_count": null,
   "metadata": {
    "collapsed": true
   },
   "outputs": [],
   "source": [
    "Вопрос: как вывести только один последний ряд цифр?"
   ]
  },
  {
   "cell_type": "code",
   "execution_count": null,
   "metadata": {
    "collapsed": true
   },
   "outputs": [],
   "source": [
    "Задача 3. Придумать алгоритм, который позволил бы вырезать из списка все нулевые элементы и имел бы сложность О(n)"
   ]
  },
  {
   "cell_type": "code",
   "execution_count": 3,
   "metadata": {},
   "outputs": [
    {
     "name": "stdout",
     "output_type": "stream",
     "text": [
      "1\n",
      "1\n",
      "2\n",
      "3\n",
      "5\n",
      "8\n",
      "13\n"
     ]
    }
   ],
   "source": [
    "A = [1, 0, 0, 1, 0, 2, 3, 0, 0, 5, 0, 8, 13, 0, 0, 0]\n",
    "\n",
    "for a in A:\n",
    "    if a>0:\n",
    "        print(a)"
   ]
  },
  {
   "cell_type": "code",
   "execution_count": null,
   "metadata": {
    "collapsed": true
   },
   "outputs": [],
   "source": [
    "Я так понимаю, данный вариант не подходит, поэтому была следующая попытка:"
   ]
  },
  {
   "cell_type": "code",
   "execution_count": 22,
   "metadata": {},
   "outputs": [
    {
     "name": "stdout",
     "output_type": "stream",
     "text": [
      "[0, 0, 0, 0, 0, 0, 0, 0, 0, 1, 1, 2, 3, 5, 8, 13]\n",
      "[1, 1, 2, 3, 5, 8, 13]\n"
     ]
    }
   ],
   "source": [
    "A = [1, 0, 0, 1, 0, 2, 3, 0, 0, 5, 0, 8, 13, 0, 0, 0]\n",
    "A.sort()\n",
    "print(A)\n",
    "\n",
    "A = A[9:]\n",
    "print(A)"
   ]
  },
  {
   "cell_type": "code",
   "execution_count": null,
   "metadata": {
    "collapsed": true
   },
   "outputs": [],
   "source": [
    "Задача 4. Посчитать сумму всех элементов объекта my_matrix"
   ]
  },
  {
   "cell_type": "code",
   "execution_count": 6,
   "metadata": {},
   "outputs": [
    {
     "name": "stdout",
     "output_type": "stream",
     "text": [
      "1\n",
      "2\n",
      "3\n",
      "4\n",
      "5\n",
      "6\n",
      "7\n",
      "8\n",
      "9\n"
     ]
    }
   ],
   "source": [
    "my_matrix = [[1, 2, 3], [4, 5, 6], [7, 8, 9]]\n",
    "\n",
    "for i in my_matrix:\n",
    "    for j in i:\n",
    "        print (j)\n",
    "        "
   ]
  },
  {
   "cell_type": "code",
   "execution_count": 23,
   "metadata": {},
   "outputs": [
    {
     "name": "stdout",
     "output_type": "stream",
     "text": [
      "6\n"
     ]
    }
   ],
   "source": [
    "a = 0\n",
    "for x in j:\n",
    "    a += x\n",
    "print(a)\n"
   ]
  },
  {
   "cell_type": "code",
   "execution_count": null,
   "metadata": {
    "collapsed": true
   },
   "outputs": [],
   "source": [
    "Почему не получается сумма?"
   ]
  },
  {
   "cell_type": "code",
   "execution_count": null,
   "metadata": {
    "collapsed": true
   },
   "outputs": [],
   "source": [
    "Задача 5. Определить процент строчных и прописных букв в строке 'Hello, WORLD!'"
   ]
  },
  {
   "cell_type": "code",
   "execution_count": 31,
   "metadata": {},
   "outputs": [
    {
     "name": "stdout",
     "output_type": "stream",
     "text": [
      "7 9\n"
     ]
    }
   ],
   "source": [
    "string = 'Hello, WORLD!'\n",
    "n_upper = 0\n",
    "n_lower= 0\n",
    "\n",
    "for a in string:\n",
    "    if a==a.lower():\n",
    "        n_lower = n_lower+1\n",
    "    if a==a.upper():\n",
    "        n_upper = n_upper+1\n",
    "    \n",
    "print(n_lower,n_upper)\n"
   ]
  },
  {
   "cell_type": "code",
   "execution_count": null,
   "metadata": {
    "collapsed": true
   },
   "outputs": [],
   "source": [
    "Почему не получается сумма?"
   ]
  },
  {
   "cell_type": "code",
   "execution_count": null,
   "metadata": {
    "collapsed": true
   },
   "outputs": [],
   "source": [
    "Задача 6. Вывести на экран самое длинное слово в строке 'В программировании строковый тип - тип данных, значениями которого является произвольная последовательность.'"
   ]
  },
  {
   "cell_type": "code",
   "execution_count": 34,
   "metadata": {},
   "outputs": [
    {
     "name": "stdout",
     "output_type": "stream",
     "text": [
      "['В', 'программировании', 'строковый', 'тип', '-', 'тип', 'данных', 'значениями', 'которого', 'является', 'произвольная', 'последовательность.']\n"
     ]
    }
   ],
   "source": [
    "string = 'В программировании строковый тип - тип данных значениями которого является произвольная последовательность.'\n",
    "words = string.split()\n",
    "print(words)\n"
   ]
  },
  {
   "cell_type": "code",
   "execution_count": null,
   "metadata": {
    "collapsed": true
   },
   "outputs": [],
   "source": [
    "Разбила на слова и не понимаю, что дальше"
   ]
  },
  {
   "cell_type": "code",
   "execution_count": null,
   "metadata": {
    "collapsed": true
   },
   "outputs": [],
   "source": [
    "Задача 7.Проверить, является ли палиндромом каждый элемент списка."
   ]
  },
  {
   "cell_type": "code",
   "execution_count": null,
   "metadata": {
    "collapsed": true
   },
   "outputs": [],
   "source": [
    "Phrases = ['Ежу хуже', u'Лев осоловел']"
   ]
  }
 ],
 "metadata": {
  "kernelspec": {
   "display_name": "Python 3",
   "language": "python",
   "name": "python3"
  },
  "language_info": {
   "codemirror_mode": {
    "name": "ipython",
    "version": 3
   },
   "file_extension": ".py",
   "mimetype": "text/x-python",
   "name": "python",
   "nbconvert_exporter": "python",
   "pygments_lexer": "ipython3",
   "version": "3.6.3"
  }
 },
 "nbformat": 4,
 "nbformat_minor": 2
}
