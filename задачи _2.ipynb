{
 "cells": [
  {
   "cell_type": "markdown",
   "metadata": {},
   "source": [
    "Задача 6.\n",
    "В шифре Цезаря каждая буква заменяется на k-ую по счету в алфавите после данной, с цикличностью.\n",
    "Функция принемает на вход строку и параметр k. Требуется вернуть зашифрованную строку"
   ]
  },
  {
   "cell_type": "raw",
   "metadata": {},
   "source": [
    "В функции chiffre будут 2 переменные: \n",
    "def chiffre(string, k)\n",
    "...\n",
    "return string\n",
    "\n",
    "Не понимаю, как обозначить k-ую по счету букву в алфавите после данной. Нужно создать отдельно список с алфавитом и с ним сравнивать каждую букву +1 к индексу строки? ничего не складывает..."
   ]
  },
  {
   "cell_type": "markdown",
   "metadata": {},
   "source": []
  },
  {
   "cell_type": "code",
   "execution_count": 136,
   "metadata": {},
   "outputs": [
    {
     "name": "stdout",
     "output_type": "stream",
     "text": [
      "bbrbkbdbbrb\n"
     ]
    }
   ],
   "source": [
    "string ='abrakadabra'\n",
    "ABC = 'abcdefghijklmnopqrstuvwxyz'\n",
    "\n",
    "for x in string:\n",
    "    if x == ABC[0] and y == ABC[0+1]:\n",
    "        string2=string.replace(x,y)\n",
    "print(string2)\n",
    "                "
   ]
  },
  {
   "cell_type": "code",
   "execution_count": null,
   "metadata": {
    "collapsed": true
   },
   "outputs": [],
   "source": []
  },
  {
   "cell_type": "code",
   "execution_count": null,
   "metadata": {
    "collapsed": true
   },
   "outputs": [],
   "source": [
    "string = 'язык язычок, человек гомо_сапиенс, язычок язычина,язычишко язычище, язычишко звякало, \n",
    "гомо_сапиенс мыслящий_тростник, человек рожденный_женщиной, язык язычишко, \n",
    "царь_природы мыслящий_тростник, язычишко метла, рожденный_женщиной венец_творения, человек смертный'"
   ]
  },
  {
   "cell_type": "markdown",
   "metadata": {},
   "source": [
    "В этой задаче даже не знаю, с чего начинать. На слова не нужно разбивать, а нужно на пары синонимов? как??? хотя бы первые два шаги какие?"
   ]
  }
 ],
 "metadata": {
  "kernelspec": {
   "display_name": "Python 3",
   "language": "python",
   "name": "python3"
  },
  "language_info": {
   "codemirror_mode": {
    "name": "ipython",
    "version": 3
   },
   "file_extension": ".py",
   "mimetype": "text/x-python",
   "name": "python",
   "nbconvert_exporter": "python",
   "pygments_lexer": "ipython3",
   "version": "3.6.3"
  }
 },
 "nbformat": 4,
 "nbformat_minor": 2
}
