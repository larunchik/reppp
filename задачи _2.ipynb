{
 "cells": [
  {
   "cell_type": "markdown",
   "metadata": {},
   "source": [
    "Задача 6.\n",
    "В шифре Цезаря каждая буква заменяется на k-ую по счету в алфавите после данной, с цикличностью.\n",
    "Функция принемает на вход строку и параметр k. Требуется вернуть зашифрованную строку"
   ]
  },
  {
   "cell_type": "raw",
   "metadata": {},
   "source": [
    "В функции chiffre будут 2 переменные: \n",
    "def chiffre(string, k)\n",
    "...\n",
    "return string\n",
    "\n",
    "Не понимаю, как обозначить k-ую по счету букву в алфавите после данной. Нужно создать отдельно список с алфавитом и с ним сравнивать каждую букву +1 к индексу строки? ничего не складывает..."
   ]
  },
  {
   "cell_type": "code",
   "execution_count": 46,
   "metadata": {},
   "outputs": [
    {
     "name": "stdout",
     "output_type": "stream",
     "text": [
      "???br???k???d???br???\n"
     ]
    }
   ],
   "source": [
    "string = 'abrakadabra'\n",
    "\n",
    "for x in string:\n",
    "    new_string=string.replace(x[0],'???')\n",
    "print(new_string)\n",
    "    \n"
   ]
  },
  {
   "cell_type": "code",
   "execution_count": 48,
   "metadata": {},
   "outputs": [
    {
     "ename": "TypeError",
     "evalue": "must be str, not int",
     "output_type": "error",
     "traceback": [
      "\u001b[1;31m---------------------------------------------------------------------------\u001b[0m",
      "\u001b[1;31mTypeError\u001b[0m                                 Traceback (most recent call last)",
      "\u001b[1;32m<ipython-input-48-a554913ed64e>\u001b[0m in \u001b[0;36m<module>\u001b[1;34m()\u001b[0m\n\u001b[0;32m      4\u001b[0m \u001b[1;32mfor\u001b[0m \u001b[0mx\u001b[0m \u001b[1;32min\u001b[0m \u001b[0mstring\u001b[0m\u001b[1;33m:\u001b[0m\u001b[1;33m\u001b[0m\u001b[0m\n\u001b[0;32m      5\u001b[0m     \u001b[1;32mif\u001b[0m \u001b[0mx\u001b[0m \u001b[1;32min\u001b[0m \u001b[0mABC\u001b[0m\u001b[1;33m:\u001b[0m\u001b[1;33m\u001b[0m\u001b[0m\n\u001b[1;32m----> 6\u001b[1;33m         \u001b[0my\u001b[0m\u001b[1;33m=\u001b[0m\u001b[1;33m(\u001b[0m\u001b[0mx\u001b[0m\u001b[1;33m[\u001b[0m\u001b[1;36m0\u001b[0m\u001b[1;33m]\u001b[0m\u001b[1;33m+\u001b[0m\u001b[1;36m1\u001b[0m\u001b[1;33m)\u001b[0m\u001b[1;33m\u001b[0m\u001b[0m\n\u001b[0m\u001b[0;32m      7\u001b[0m         \u001b[0mprint\u001b[0m\u001b[1;33m(\u001b[0m\u001b[0my\u001b[0m\u001b[1;33m)\u001b[0m\u001b[1;33m\u001b[0m\u001b[0m\n\u001b[0;32m      8\u001b[0m \u001b[1;33m\u001b[0m\u001b[0m\n",
      "\u001b[1;31mTypeError\u001b[0m: must be str, not int"
     ]
    }
   ],
   "source": [
    "ABC = ['a', 'b', 'c', 'd', 'e', 'f', 'g', 'h', 'i', 'j', 'k', 'l', 'm', 'n', 'o', 'p', 'q', 'r', 's']\n",
    "string = 'abrakadabra'\n",
    "\n",
    "for x in string:\n",
    "    if x in ABC:\n",
    "        y=(x[0]+1)\n",
    "        print(y)\n",
    "\n",
    "\n"
   ]
  },
  {
   "cell_type": "markdown",
   "metadata": {},
   "source": [
    "Задача 10. Сформировать словарь синонимов. В качестве ключевого слова взять самое короткое слово из \n",
    "синонимичного ряда."
   ]
  },
  {
   "cell_type": "code",
   "execution_count": null,
   "metadata": {
    "collapsed": true
   },
   "outputs": [],
   "source": [
    "string = 'язык язычок, человек гомо_сапиенс, язычок язычина,язычишко язычище, язычишко звякало, \n",
    "гомо_сапиенс мыслящий_тростник, человек рожденный_женщиной, язык язычишко, \n",
    "царь_природы мыслящий_тростник, язычишко метла, рожденный_женщиной венец_творения, человек смертный'"
   ]
  },
  {
   "cell_type": "markdown",
   "metadata": {},
   "source": [
    "В этой задаче даже не знаю, с чего начинать. На слова не нужно разбивать, а нужно на пары синонимов? как??? хотя бы первые два шаги какие?"
   ]
  }
 ],
 "metadata": {
  "kernelspec": {
   "display_name": "Python 3",
   "language": "python",
   "name": "python3"
  },
  "language_info": {
   "codemirror_mode": {
    "name": "ipython",
    "version": 3
   },
   "file_extension": ".py",
   "mimetype": "text/x-python",
   "name": "python",
   "nbconvert_exporter": "python",
   "pygments_lexer": "ipython3",
   "version": "3.6.3"
  }
 },
 "nbformat": 4,
 "nbformat_minor": 2
}
